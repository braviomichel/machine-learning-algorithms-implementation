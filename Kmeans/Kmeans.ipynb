{
 "cells": [
  {
   "cell_type": "code",
   "execution_count": null,
   "metadata": {
    "colab": {
     "base_uri": "https://localhost:8080/"
    },
    "id": "sLuVJNBcwLjL",
    "outputId": "7636aed3-ad47-4661-a552-1951b8864279"
   },
   "outputs": [],
   "source": []
  },
  {
   "cell_type": "code",
   "execution_count": null,
   "metadata": {
    "id": "AKABVSllydNz"
   },
   "outputs": [],
   "source": []
  },
  {
   "cell_type": "markdown",
   "metadata": {
    "id": "ixn9NI_z_bfl"
   },
   "source": [
    "Dans le code ci-dessus, le numpy que nous avons importé est pour le calcul mathématique effectué, matplotlib est pour tracer le graphique, et pandas est pour gérer le jeu de données.\n",
    "\n",
    "Importation du jeu de données :\n",
    "  Ensuite, nous allons importer le jeu de données que nous devons utiliser. Nous utilisons donc ici le jeu de données Mall_Customer_data.csv. Il peut être importé en utilisant le code ci-dessous:\n"
   ]
  },
  {
   "cell_type": "code",
   "execution_count": null,
   "metadata": {
    "colab": {
     "base_uri": "https://localhost:8080/",
     "height": 206
    },
    "id": "-dm35W5x8URT",
    "outputId": "b150cb04-82f0-45f8-bc78-86c351770358"
   },
   "outputs": [
    {
     "data": {
      "text/html": [
       "\n",
       "  <div id=\"df-771fab02-6cd7-44d2-a936-4d887ad022df\">\n",
       "    <div class=\"colab-df-container\">\n",
       "      <div>\n",
       "<style scoped>\n",
       "    .dataframe tbody tr th:only-of-type {\n",
       "        vertical-align: middle;\n",
       "    }\n",
       "\n",
       "    .dataframe tbody tr th {\n",
       "        vertical-align: top;\n",
       "    }\n",
       "\n",
       "    .dataframe thead th {\n",
       "        text-align: right;\n",
       "    }\n",
       "</style>\n",
       "<table border=\"1\" class=\"dataframe\">\n",
       "  <thead>\n",
       "    <tr style=\"text-align: right;\">\n",
       "      <th></th>\n",
       "      <th>CustomerID</th>\n",
       "      <th>Genre</th>\n",
       "      <th>Age</th>\n",
       "      <th>Annual Income (k$)</th>\n",
       "      <th>Spending Score (1-100)</th>\n",
       "    </tr>\n",
       "  </thead>\n",
       "  <tbody>\n",
       "    <tr>\n",
       "      <th>0</th>\n",
       "      <td>1</td>\n",
       "      <td>Male</td>\n",
       "      <td>19</td>\n",
       "      <td>15</td>\n",
       "      <td>39</td>\n",
       "    </tr>\n",
       "    <tr>\n",
       "      <th>1</th>\n",
       "      <td>2</td>\n",
       "      <td>Male</td>\n",
       "      <td>21</td>\n",
       "      <td>15</td>\n",
       "      <td>81</td>\n",
       "    </tr>\n",
       "    <tr>\n",
       "      <th>2</th>\n",
       "      <td>3</td>\n",
       "      <td>Female</td>\n",
       "      <td>20</td>\n",
       "      <td>16</td>\n",
       "      <td>6</td>\n",
       "    </tr>\n",
       "    <tr>\n",
       "      <th>3</th>\n",
       "      <td>4</td>\n",
       "      <td>Female</td>\n",
       "      <td>23</td>\n",
       "      <td>16</td>\n",
       "      <td>77</td>\n",
       "    </tr>\n",
       "    <tr>\n",
       "      <th>4</th>\n",
       "      <td>5</td>\n",
       "      <td>Female</td>\n",
       "      <td>31</td>\n",
       "      <td>17</td>\n",
       "      <td>40</td>\n",
       "    </tr>\n",
       "  </tbody>\n",
       "</table>\n",
       "</div>\n",
       "      <button class=\"colab-df-convert\" onclick=\"convertToInteractive('df-771fab02-6cd7-44d2-a936-4d887ad022df')\"\n",
       "              title=\"Convert this dataframe to an interactive table.\"\n",
       "              style=\"display:none;\">\n",
       "        \n",
       "  <svg xmlns=\"http://www.w3.org/2000/svg\" height=\"24px\"viewBox=\"0 0 24 24\"\n",
       "       width=\"24px\">\n",
       "    <path d=\"M0 0h24v24H0V0z\" fill=\"none\"/>\n",
       "    <path d=\"M18.56 5.44l.94 2.06.94-2.06 2.06-.94-2.06-.94-.94-2.06-.94 2.06-2.06.94zm-11 1L8.5 8.5l.94-2.06 2.06-.94-2.06-.94L8.5 2.5l-.94 2.06-2.06.94zm10 10l.94 2.06.94-2.06 2.06-.94-2.06-.94-.94-2.06-.94 2.06-2.06.94z\"/><path d=\"M17.41 7.96l-1.37-1.37c-.4-.4-.92-.59-1.43-.59-.52 0-1.04.2-1.43.59L10.3 9.45l-7.72 7.72c-.78.78-.78 2.05 0 2.83L4 21.41c.39.39.9.59 1.41.59.51 0 1.02-.2 1.41-.59l7.78-7.78 2.81-2.81c.8-.78.8-2.07 0-2.86zM5.41 20L4 18.59l7.72-7.72 1.47 1.35L5.41 20z\"/>\n",
       "  </svg>\n",
       "      </button>\n",
       "      \n",
       "  <style>\n",
       "    .colab-df-container {\n",
       "      display:flex;\n",
       "      flex-wrap:wrap;\n",
       "      gap: 12px;\n",
       "    }\n",
       "\n",
       "    .colab-df-convert {\n",
       "      background-color: #E8F0FE;\n",
       "      border: none;\n",
       "      border-radius: 50%;\n",
       "      cursor: pointer;\n",
       "      display: none;\n",
       "      fill: #1967D2;\n",
       "      height: 32px;\n",
       "      padding: 0 0 0 0;\n",
       "      width: 32px;\n",
       "    }\n",
       "\n",
       "    .colab-df-convert:hover {\n",
       "      background-color: #E2EBFA;\n",
       "      box-shadow: 0px 1px 2px rgba(60, 64, 67, 0.3), 0px 1px 3px 1px rgba(60, 64, 67, 0.15);\n",
       "      fill: #174EA6;\n",
       "    }\n",
       "\n",
       "    [theme=dark] .colab-df-convert {\n",
       "      background-color: #3B4455;\n",
       "      fill: #D2E3FC;\n",
       "    }\n",
       "\n",
       "    [theme=dark] .colab-df-convert:hover {\n",
       "      background-color: #434B5C;\n",
       "      box-shadow: 0px 1px 3px 1px rgba(0, 0, 0, 0.15);\n",
       "      filter: drop-shadow(0px 1px 2px rgba(0, 0, 0, 0.3));\n",
       "      fill: #FFFFFF;\n",
       "    }\n",
       "  </style>\n",
       "\n",
       "      <script>\n",
       "        const buttonEl =\n",
       "          document.querySelector('#df-771fab02-6cd7-44d2-a936-4d887ad022df button.colab-df-convert');\n",
       "        buttonEl.style.display =\n",
       "          google.colab.kernel.accessAllowed ? 'block' : 'none';\n",
       "\n",
       "        async function convertToInteractive(key) {\n",
       "          const element = document.querySelector('#df-771fab02-6cd7-44d2-a936-4d887ad022df');\n",
       "          const dataTable =\n",
       "            await google.colab.kernel.invokeFunction('convertToInteractive',\n",
       "                                                     [key], {});\n",
       "          if (!dataTable) return;\n",
       "\n",
       "          const docLinkHtml = 'Like what you see? Visit the ' +\n",
       "            '<a target=\"_blank\" href=https://colab.research.google.com/notebooks/data_table.ipynb>data table notebook</a>'\n",
       "            + ' to learn more about interactive tables.';\n",
       "          element.innerHTML = '';\n",
       "          dataTable['output_type'] = 'display_data';\n",
       "          await google.colab.output.renderOutput(dataTable, element);\n",
       "          const docLink = document.createElement('div');\n",
       "          docLink.innerHTML = docLinkHtml;\n",
       "          element.appendChild(docLink);\n",
       "        }\n",
       "      </script>\n",
       "    </div>\n",
       "  </div>\n",
       "  "
      ],
      "text/plain": [
       "   CustomerID   Genre  Age  Annual Income (k$)  Spending Score (1-100)\n",
       "0           1    Male   19                  15                      39\n",
       "1           2    Male   21                  15                      81\n",
       "2           3  Female   20                  16                       6\n",
       "3           4  Female   23                  16                      77\n",
       "4           5  Female   31                  17                      40"
      ]
     },
     "execution_count": 10,
     "metadata": {},
     "output_type": "execute_result"
    }
   ],
   "source": [
    "# importing libraries    \n",
    "import numpy as nm    \n",
    "import matplotlib.pyplot as mtp    \n",
    "import pandas as pd  \n",
    "\n",
    "\n",
    "# Importing the dataset  \n",
    "dataset = pd.read_csv('Mall_Customers.csv')  \n",
    "dataset.head()\n"
   ]
  },
  {
   "cell_type": "markdown",
   "metadata": {
    "id": "OdGzQTbm_yc7"
   },
   "source": [
    "Extraction de variables indépendantes\n",
    "Ici, nous n’avons besoin d’aucune variable dépendante pour l’étape de pré-traitement des données car il s’agit d’un problème de clustering, et nous n’avons aucune idée de ce qu’il faut déterminer. Nous allons donc simplement ajouter une ligne de code pour la matrice des features."
   ]
  },
  {
   "cell_type": "code",
   "execution_count": null,
   "metadata": {
    "id": "QEX0-LhO-RlY"
   },
   "outputs": [],
   "source": []
  },
  {
   "cell_type": "code",
   "execution_count": null,
   "metadata": {
    "id": "nltnd7Jp8vJY"
   },
   "outputs": [],
   "source": [
    "x = dataset.iloc[:, [3, 4]].values  \n",
    "\n"
   ]
  },
  {
   "cell_type": "markdown",
   "metadata": {
    "id": "N6cd7HByAFBT"
   },
   "source": [
    "Comme nous pouvons le voir, nous n’extrayons que la 3ème et la 4ème fonctionnalité. C’est parce que nous avons besoin d’un tracé 2D pour visualiser le modèle, et certaines fonctionnalités ne sont pas nécessaires, comme customer_id."
   ]
  },
  {
   "cell_type": "markdown",
   "metadata": {
    "id": "oL-fBhcsAH2x"
   },
   "source": [
    "Étape 2 : Trouver le nombre optimal de grappes à l’aide de la méthode du coude\n",
    "\n",
    "Dans la deuxième étape, nous allons essayer de trouver le nombre optimal de clusters pour notre problème de clustering. Donc, comme discuté ci-dessus, nous allons utiliser ici la méthode du coude à cette fin.\n",
    "\n",
    "Comme nous le savons, la méthode du coude utilise le concept de la variance pour dessiner le tracé en traçant les valeurs d ela variance sur l’axe des Y et le nombre de cluster sur l’axe des X. Nous allons donc calculer la valeur de la variance pour différentes valeurs k allant de 1 à 10. Voici le code pour cela:"
   ]
  },
  {
   "cell_type": "code",
   "execution_count": null,
   "metadata": {
    "colab": {
     "base_uri": "https://localhost:8080/",
     "height": 295
    },
    "id": "l7caOQ_F9ESY",
    "outputId": "5e84ffb9-a575-4e51-906b-219222307c63"
   },
   "outputs": [
    {
     "data": {
      "image/png": "[encoded data removed]",
      "text/plain": [
       "<Figure size 432x288 with 1 Axes>"
      ]
     },
     "metadata": {
      "needs_background": "light"
     },
     "output_type": "display_data"
    }
   ],
   "source": [
    "#chercher le nombre optimal de clusters utilisant la methode d'elbow \n",
    "\n",
    "from sklearn.cluster import KMeans  \n",
    "v_list= []  #Initialiser la  liste pour les valeurs de la variance  \n",
    "      \n",
    "#Utiliser la boucle pour les 10 itérations.  \n",
    "for i in range(1, 11):  \n",
    "    kmeans = KMeans(n_clusters=i, init='k-means++', random_state= 42)  \n",
    "    kmeans.fit(x)  \n",
    "    v_list.append(kmeans.inertia_)  \n",
    "mtp.plot(range(1, 11), v_list)  \n",
    "mtp.title('The Elobw Method Graph')  \n",
    "mtp.xlabel('Number of clusters(k)')  \n",
    "mtp.ylabel('v_list')  \n",
    "mtp.show()  "
   ]
  },
  {
   "cell_type": "markdown",
   "metadata": {
    "id": "Zkyvw3UTAhnX"
   },
   "source": [
    "Comme nous pouvons le voir dans le code ci-dessus, nous avons utilisé la classe KMeans de sklearn. bibliothèque de clusters pour former les clusters.\n",
    "\n",
    "Ensuite, nous avons créé la variable v_list pour initialiser une liste vide, qui est utilisée pour contenir la valeur de la variance calculée pour différentes valeurs de k allant de 1 à 10.\n",
    "\n",
    "Après cela, nous avons initialisé la boucle for pour l’itération sur une valeur différente de k allant de 1 à 10; puisque pour la boucle en Python, excluez la limite sortante, il est donc pris comme 11 pour inclure la 10ème valeur.\n",
    "\n",
    "La partie reste du code est similaire à celle que nous avons faite dans les rubriques précédentes, car nous avons ajusté le modèle sur une matrice de features, puis tracé le graphique entre le nombre de clusters et la variance."
   ]
  },
  {
   "cell_type": "markdown",
   "metadata": {
    "id": "dkTGcj7DAqqy"
   },
   "source": [
    "D’après le graphique ci-dessus, nous pouvons voir que le point de coude est à 5. Donc, le nombre de clusters ici sera de 5."
   ]
  },
  {
   "cell_type": "code",
   "execution_count": null,
   "metadata": {
    "colab": {
     "base_uri": "https://localhost:8080/"
    },
    "id": "32uX2p_TAuQG",
    "outputId": "b6856743-4250-44c5-cc43-19ac1c8f5834"
   },
   "outputs": [
    {
     "data": {
      "text/plain": [
       "[269981.28,\n",
       " 181363.59595959593,\n",
       " 106348.37306211122,\n",
       " 73679.78903948836,\n",
       " 44448.4554479337,\n",
       " 37233.814510710006,\n",
       " 30259.65720728547,\n",
       " 25011.839349156588,\n",
       " 21850.165282585636,\n",
       " 19672.072849014323]"
      ]
     },
     "execution_count": 13,
     "metadata": {},
     "output_type": "execute_result"
    }
   ],
   "source": [
    "v_list"
   ]
  },
  {
   "cell_type": "markdown",
   "metadata": {
    "id": "6dyFNlLkA1Kq"
   },
   "source": [
    "Étape 3 : Apprentissage de l’algorithme K-means sur l’ensemble de données d’apprentissage\n",
    "\n",
    "Comme nous avons le nombre de clusters, nous pouvons maintenant entraîner le modèle sur le jeu de données.\n",
    "\n",
    "Pour entraîner le modèle, nous utiliserons les deux mêmes lignes de code que celles que nous avons utilisées dans la section ci-dessus, mais ici au lieu d’utiliser i, nous utiliserons 5, car nous savons qu’il y a 5 clusters qui doivent être formés. Le code est donné ci-dessous:"
   ]
  },
  {
   "cell_type": "code",
   "execution_count": null,
   "metadata": {
    "id": "272u-5bm-Sjv"
   },
   "outputs": [],
   "source": [
    "#algorithme k-menas sur le  dataset  \n",
    "kmeans = KMeans(n_clusters=5, init='k-means++', random_state= 42)  \n",
    "y_predict= kmeans.fit_predict(x)  "
   ]
  },
  {
   "cell_type": "markdown",
   "metadata": {
    "id": "H-iEugCKBAyX"
   },
   "source": [
    "La première ligne est la même que ci-dessus pour créer l’objet de la classe KMeans.\n",
    "\n",
    "Dans la deuxième ligne de code, nous avons créé la variable dépendante y_predict pour entraîner le modèle."
   ]
  },
  {
   "cell_type": "code",
   "execution_count": null,
   "metadata": {
    "colab": {
     "base_uri": "https://localhost:8080/"
    },
    "id": "Qun9vKVTBCu7",
    "outputId": "bdf91970-f457-4cd0-9138-326dcf5b5f7b"
   },
   "outputs": [
    {
     "data": {
      "text/plain": [
       "array([2, 3, 2, 3, 2, 3, 2, 3, 2, 3, 2, 3, 2, 3, 2, 3, 2, 3, 2, 3, 2, 3,\n",
       "       2, 3, 2, 3, 2, 3, 2, 3, 2, 3, 2, 3, 2, 3, 2, 3, 2, 3, 2, 3, 2, 0,\n",
       "       2, 3, 0, 0, 0, 0, 0, 0, 0, 0, 0, 0, 0, 0, 0, 0, 0, 0, 0, 0, 0, 0,\n",
       "       0, 0, 0, 0, 0, 0, 0, 0, 0, 0, 0, 0, 0, 0, 0, 0, 0, 0, 0, 0, 0, 0,\n",
       "       0, 0, 0, 0, 0, 0, 0, 0, 0, 0, 0, 0, 0, 0, 0, 0, 0, 0, 0, 0, 0, 0,\n",
       "       0, 0, 0, 0, 0, 0, 0, 0, 0, 0, 0, 0, 0, 4, 1, 4, 0, 4, 1, 4, 1, 4,\n",
       "       0, 4, 1, 4, 1, 4, 1, 4, 1, 4, 0, 4, 1, 4, 1, 4, 1, 4, 1, 4, 1, 4,\n",
       "       1, 4, 1, 4, 1, 4, 1, 4, 1, 4, 1, 4, 1, 4, 1, 4, 1, 4, 1, 4, 1, 4,\n",
       "       1, 4, 1, 4, 1, 4, 1, 4, 1, 4, 1, 4, 1, 4, 1, 4, 1, 4, 1, 4, 1, 4,\n",
       "       1, 4], dtype=int32)"
      ]
     },
     "execution_count": 15,
     "metadata": {},
     "output_type": "execute_result"
    }
   ],
   "source": [
    "y_predict"
   ]
  },
  {
   "cell_type": "markdown",
   "metadata": {
    "id": "tIEbWnu4Besy"
   },
   "source": [
    "Étape 4 : Visualisation des clusters\n",
    "\n",
    "La dernière étape consiste à visualiser les clusters. Comme nous avons 5 clusters pour notre modèle, nous allons donc visualiser chaque cluster un par un.\n",
    "Pour visualiser les clusters, utilisez le nuage de points à l’aide de la fonction mtp.scatter() de matplotlib."
   ]
  },
  {
   "cell_type": "code",
   "execution_count": null,
   "metadata": {
    "colab": {
     "base_uri": "https://localhost:8080/",
     "height": 295
    },
    "id": "-qkR8_Dg-ZFu",
    "outputId": "aebc18e8-9a5a-42d1-bba5-46fd2534de37"
   },
   "outputs": [
    {
     "data": {
      "image/png": "[encoded data removed]",
      "text/plain": [
       "<Figure size 432x288 with 1 Axes>"
      ]
     },
     "metadata": {
      "needs_background": "light"
     },
     "output_type": "display_data"
    }
   ],
   "source": [
    "#visualiser les clusters  \n",
    "mtp.scatter(x[y_predict == 0, 0], x[y_predict == 0, 1], s = 100, c = 'blue', label = 'Cluster 1') #for first cluster  \n",
    "mtp.scatter(x[y_predict == 1, 0], x[y_predict == 1, 1], s = 100, c = 'green', label = 'Cluster 2') #for second cluster  \n",
    "mtp.scatter(x[y_predict== 2, 0], x[y_predict == 2, 1], s = 100, c = 'red', label = 'Cluster 3') #for third cluster  \n",
    "mtp.scatter(x[y_predict == 3, 0], x[y_predict == 3, 1], s = 100, c = 'cyan', label = 'Cluster 4') #for fourth cluster  \n",
    "mtp.scatter(x[y_predict == 4, 0], x[y_predict == 4, 1], s = 100, c = 'magenta', label = 'Cluster 5') #for fifth cluster  \n",
    "mtp.scatter(kmeans.cluster_centers_[:, 0], kmeans.cluster_centers_[:, 1], s = 300, c = 'yellow', label = 'Centroid')   \n",
    "mtp.title('Clusters of customers')  \n",
    "mtp.xlabel('Revenu annuel (k$)')  \n",
    "mtp.ylabel('Dépenses (1-100)')  \n",
    "mtp.legend()  \n",
    "mtp.show()  "
   ]
  },
  {
   "cell_type": "markdown",
   "metadata": {
    "id": "BKHovVwmBl6V"
   },
   "source": [
    "Dans les lignes de code ci-dessus, nous avons écrit du code pour chaque cluster, allant de 1 à 5. La première coordonnée du mtp.scatter, c’est-à-dire x[y_predict == 0, 0] contenant la valeur x pour l’affichage des valeurs de la matrice des entités, et le y_predict est compris entre 0 et 1."
   ]
  },
  {
   "cell_type": "markdown",
   "metadata": {
    "id": "O3or-hkPBpvj"
   },
   "source": [
    "L’image de sortie montre clairement les cinq clusters différentes avec des couleurs différentes. Les clusters sont formés entre deux paramètres du jeu de données ; Revenu annuel du client et dépenses. Nous pouvons changer les couleurs et les étiquettes selon l’exigence ou le choix. Nous pouvons également observer certains points des modèles ci-dessus, qui sont donnés ci-dessous:\n",
    "\n",
    "Cluster1 affiche les clients avec le salaire moyen et les dépenses moyennes afin que nous puissions catégoriser ces clients comme moyen\n",
    "Cluster2 montre que le client a un revenu élevé mais de faibles dépenses, nous pouvons donc le classer comme prudent.\n",
    "Le cluster 3 montre les faibles revenus et les faibles dépenses, de sorte qu’ils peuvent être classés comme raisonnables.\n",
    "Cluster4 montre les clients à faible revenu avec des dépenses très élevées afin qu’ils puissent être classés comme négligents.\n",
    "Cluster5 montre les clients ayant des revenus élevés et des dépenses élevées afin qu’ils puissent être classés comme cibles, et ces clients peuvent être les clients les plus rentables pour le propriétaire du centre commercial.\n"
   ]
  }
 ],
 "metadata": {
  "colab": {
   "provenance": []
  },
  "kernelspec": {
   "display_name": "Python 3",
   "language": "python",
   "name": "python3"
  },
  "language_info": {
   "codemirror_mode": {
    "name": "ipython",
    "version": 3
   },
   "file_extension": ".py",
   "mimetype": "text/x-python",
   "name": "python",
   "nbconvert_exporter": "python",
   "pygments_lexer": "ipython3",
   "version": "3.8.8"
  }
 },
 "nbformat": 4,
 "nbformat_minor": 1
}
